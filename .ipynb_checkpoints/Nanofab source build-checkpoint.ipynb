{
 "cells": [
  {
   "cell_type": "markdown",
   "metadata": {},
   "source": [
    "# Procedure\n",
    "********"
   ]
  },
  {
   "cell_type": "markdown",
   "metadata": {},
   "source": [
    "* Load sample (which emits electrons well) under the pole piece.\n",
    "* Aperture set to **Big hole** automatically.\n",
    "* In ZEN software $\\Rightarrow$  Maintanance tab $\\Rightarrow$ GFIS Column $\\Rightarrow$ GFIS source maintenance.\n",
    "* Process Selection $\\Rightarrow$ Form the Source (never Repair) $\\Rightarrow$ Next.\n",
    "* Keep most recent field.\n",
    "* Wait about 30 minutes for temperature ramp up. It will say **State: Form completed. SUCCEEDED** $\\Rightarrow$ Next.\n",
    "* Can also click *Select a Trimer* in the first step to skip the temperature step if not needed.\n",
    "* *Ensure column is over sample* ticked.\n",
    "* Set Extractor and Accelerator Voltages $\\Rightarrow$ Begin.\n",
    "* Untick *Fine* on the Extractor. \n",
    "* Increase Extractor voltage to higher negative biases slowly; never fast. Do it until you start seeing the source (between 25-30). Watch out for mag and contrast. Should be in SFIM mode automatically.\n",
    "* Lens 1 brought up in energy to start imaging the tip.\n",
    "* Pulse in 100 V steps to be safe as you increase the extractor. Worse imaging at higher energies, so can bring it down to see if the trimer has formed.\n",
    "* If you go past the trimer point in extractor energy, have to start the whole step over again (reform the tip at temperature).\n",
    "* Click *Done* $\\Rightarrow$ Next.\n",
    "* Good rule of thumb: **Extractor voltage - 7 = BIV** (Best imaging voltage).\n",
    "* For determining BIV, change the extractor voltage until the trimer looks brightest.\n",
    "* Align source: Bring Lens 1 down to image the plane of the aperture (get bright, in-focuse circle on the screen).\n",
    "* Pick the brightest atom by going through plane of focus when the trimer is on the left side.\n",
    "* Tick *Enable air bearing* on **Tilt alignment**. Drag the software joystick until crosshairs is touching the atom on both sides of the crossover.\n",
    "* Go to **Shift alignment** $\\Rightarrow$ Choose standard aperture in the drop-down menu.\n",
    "* Manually adjust the shift (push/pull like on the EVO) on the gun head until crosshairs is roughly touching the trimer somewhere. Can adjust Lens 1 so that the the trimer is in focus $\\Rightarrow$ Done.\n",
    "* **Set source distance** $\\Rightarrow$ Begin. Adjust Lens 1 until the aperture (not the sample) is as sharp as possible.\n",
    "* Click *source distance*. Adjust distance until crossover position (104) is not flashing red.\n",
    "* Process finishes after this step.\n",
    "* If artifacts around the edges in the image after this, adjust Lens 2 voltage until they disappear.\n",
    "* Might have to re-adjust the mechanical tilt in the source building steps after this to make sure they are not more than 300 in $x$ and $y$ directions.\n",
    "* Change aperture to 20 $\\mu$m or another standard one and begin focus, stigs, wobble.\n",
    "* Gun Shift mode for wobbling.\n",
    "* GFIS $\\Rightarrow$ Alignments $\\Rightarrow$ Quad balance to wobble the stigmators. Stig X first. Drag the bar manually on both DH and BF until in good focus. Then Stig Y."
   ]
  },
  {
   "cell_type": "code",
   "execution_count": null,
   "metadata": {
    "collapsed": true
   },
   "outputs": [],
   "source": []
  }
 ],
 "metadata": {
  "kernelspec": {
   "display_name": "Python 3",
   "language": "python",
   "name": "python3"
  },
  "language_info": {
   "codemirror_mode": {
    "name": "ipython",
    "version": 3
   },
   "file_extension": ".py",
   "mimetype": "text/x-python",
   "name": "python",
   "nbconvert_exporter": "python",
   "pygments_lexer": "ipython3",
   "version": "3.5.1"
  }
 },
 "nbformat": 4,
 "nbformat_minor": 2
}
